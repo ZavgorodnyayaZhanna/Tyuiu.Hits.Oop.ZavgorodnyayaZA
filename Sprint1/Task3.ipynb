{
 "cells": [
  {
   "cell_type": "markdown",
   "metadata": {},
   "source": [
    "<h1 style=\"color:DodgerBlue\">Индивидальный проект</h1>"
   ]
  },
  {
   "cell_type": "markdown",
   "metadata": {},
   "source": [
    "<h2 style=\"color:DodgerBlue\">Название проекта:</h2>\n",
    "\n",
    "----\n",
    "\n",
    "### Вариант задания \n"
   ]
  },
  {
   "cell_type": "markdown",
   "metadata": {},
   "source": [
    "<h2 style=\"color:DodgerBlue\">Описание проекта:</h2>\n",
    "\n",
    "----\n",
    "\n",
    "[ваш текст]\n",
    "\n",
    "#### Дополнительное задание\n",
    "Добавьте к сущестующим классам конструктора классов с использованием гетторов и сетторов и реализуйте взаимодействие объектов между собой"
   ]
  },
  {
   "cell_type": "markdown",
   "metadata": {},
   "source": [
    "<h2 style=\"color:DodgerBlue\">Реализация:</h2>\n",
    "\n",
    "----"
   ]
  },
  {
   "cell_type": "code",
   "execution_count": 1,
   "metadata": {
    "dotnet_interactive": {
     "language": "csharp"
    },
    "polyglot_notebook": {
     "kernelName": "csharp"
    }
   },
   "outputs": [],
   "source": [
    "using System;\n",
    "\n",
    "class BankAccount\n",
    "    {\n",
    "    public int AccountNumber { get; set; }\n",
    "    public decimal Balance { get; set; }\n",
    "    public string AccountType { get; set; }\n",
    "    public BankAccount(int accountNumber, decimal balance, string accountType)\n",
    "        {\n",
    "            AccountNumber = accountNumber;\n",
    "            Balance = balance;\n",
    "            AccountType = accountType;\n",
    "        }\n",
    "\n",
    "    public virtual string GetInfo()\n",
    "        {\n",
    "            return $\"Account Number: {AccountNumber}, Balance: {Balance}, Account Type: {AccountType}\";\n",
    "        }\n",
    "\n",
    "    public virtual void Deposit(decimal amount)\n",
    "        {\n",
    "            Balance += amount;\n",
    "        }\n",
    "\n",
    "    public virtual void Withdraw(decimal amount)\n",
    "        {\n",
    "            Balance -= amount;\n",
    "        }\n",
    "    }\n",
    "\n",
    "class SavingsAccount : BankAccount\n",
    "    {\n",
    "    public float InterestRate { get; set; }\n",
    "    public SavingsAccount(int accountNumber, decimal balance, string accountType, float interestRate) \n",
    "    : base(accountNumber, balance, accountType)\n",
    "    {\n",
    "        InterestRate = interestRate;\n",
    "    }\n",
    "\n",
    "    public override void Deposit(decimal amount)\n",
    "    {\n",
    "        decimal interest = amount * (decimal)InterestRate / 100;\n",
    "        Balance += amount + interest;\n",
    "    }\n",
    "}\n",
    "\n",
    "class CheckingAccount : BankAccount\n",
    "    {\n",
    "    public decimal OverdraftLimit { get; set; }\n",
    "    public CheckingAccount(int accountNumber, decimal balance, string accountType, decimal overdraftLimit) \n",
    "     : base(accountNumber, balance, accountType)\n",
    "    {\n",
    "        OverdraftLimit = overdraftLimit;\n",
    "    }\n",
    "\n",
    "    public override void Withdraw(decimal amount)\n",
    "    {\n",
    "        if (Balance - amount >= -OverdraftLimit)\n",
    "        {\n",
    "            Balance -= amount;\n",
    "        }\n",
    "        else\n",
    "        {\n",
    "            Console.WriteLine(\"Insufficient funds\");\n",
    "        }\n",
    "    }\n",
    "}\n",
    "\n",
    "class Program\n",
    "    {\n",
    "    static void Main()\n",
    "        {\n",
    "        SavingsAccount savingsAcc = new SavingsAccount(1234, 1000, \"Savings\", 2);\n",
    "        CheckingAccount checkingAcc = new CheckingAccount(5678, 500, \"Checkings\", 100);\n",
    "            savingsAcc.Deposit(500);\n",
    "            checkingAcc.Withdraw(700);\n",
    "\n",
    "            Console.WriteLine(savingsAcc.GetInfo());\n",
    "            Console.WriteLine(checkingAcc.GetInfo());\n",
    "        }\n",
    "    }\n",
    "\n",
    "\n",
    "\n",
    "\n",
    "\n"
   ]
  }
 ],
 "metadata": {
  "kernelspec": {
   "display_name": ".NET (C#)",
   "language": "C#",
   "name": ".net-csharp"
  },
  "polyglot_notebook": {
   "kernelInfo": {
    "defaultKernelName": "csharp",
    "items": [
     {
      "aliases": [],
      "languageName": "csharp",
      "name": "csharp"
     }
    ]
   }
  }
 },
 "nbformat": 4,
 "nbformat_minor": 2
}
